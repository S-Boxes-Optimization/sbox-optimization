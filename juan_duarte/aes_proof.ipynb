{
 "cells": [
  {
   "cell_type": "code",
   "execution_count": 7,
   "id": "e0043757",
   "metadata": {},
   "outputs": [
    {
     "ename": "ModuleNotFoundError",
     "evalue": "No module named 'ddt'",
     "output_type": "error",
     "traceback": [
      "\u001b[1;31m---------------------------------------------------------------------------\u001b[0m",
      "\u001b[1;31mModuleNotFoundError\u001b[0m                       Traceback (most recent call last)",
      "Cell \u001b[1;32mIn[7], line 3\u001b[0m\n\u001b[0;32m      1\u001b[0m \u001b[38;5;28;01mfrom\u001b[39;00m\u001b[38;5;250m \u001b[39m\u001b[38;5;21;01msbox\u001b[39;00m\u001b[38;5;250m \u001b[39m\u001b[38;5;28;01mimport\u001b[39;00m AESSBox\n\u001b[0;32m      2\u001b[0m \u001b[38;5;28;01mimport\u001b[39;00m\u001b[38;5;250m \u001b[39m\u001b[38;5;21;01mnumpy\u001b[39;00m\u001b[38;5;250m \u001b[39m\u001b[38;5;28;01mas\u001b[39;00m\u001b[38;5;250m \u001b[39m\u001b[38;5;21;01mnp\u001b[39;00m\n\u001b[1;32m----> 3\u001b[0m \u001b[38;5;28;01mfrom\u001b[39;00m\u001b[38;5;250m \u001b[39m\u001b[38;5;21;01mmarkov_utils\u001b[39;00m\u001b[38;5;250m \u001b[39m\u001b[38;5;28;01mimport\u001b[39;00m transition_matrix_square\n\u001b[0;32m      4\u001b[0m \u001b[38;5;28;01mfrom\u001b[39;00m\u001b[38;5;250m \u001b[39m\u001b[38;5;21;01mmarkov_chain\u001b[39;00m\u001b[38;5;250m \u001b[39m\u001b[38;5;28;01mimport\u001b[39;00m DifferentialMarkovChain\n\u001b[0;32m      6\u001b[0m \u001b[38;5;66;03m# 1. vector F(x)\u001b[39;00m\n",
      "File \u001b[1;32mc:\\Users\\surface\\GitHub\\sbox-optimization\\juan_duarte\\markov_utils.py:3\u001b[0m\n\u001b[0;32m      1\u001b[0m \u001b[38;5;66;03m# markov_utils.py\u001b[39;00m\n\u001b[0;32m      2\u001b[0m \u001b[38;5;28;01mimport\u001b[39;00m\u001b[38;5;250m \u001b[39m\u001b[38;5;21;01mnumpy\u001b[39;00m\u001b[38;5;250m \u001b[39m\u001b[38;5;28;01mas\u001b[39;00m\u001b[38;5;250m \u001b[39m\u001b[38;5;21;01mnp\u001b[39;00m\n\u001b[1;32m----> 3\u001b[0m \u001b[38;5;28;01mfrom\u001b[39;00m\u001b[38;5;250m \u001b[39m\u001b[38;5;21;01mddt\u001b[39;00m\u001b[38;5;250m \u001b[39m\u001b[38;5;28;01mimport\u001b[39;00m display_ddt, ddt   \n\u001b[0;32m      5\u001b[0m \u001b[38;5;28;01mdef\u001b[39;00m\u001b[38;5;250m \u001b[39m\u001b[38;5;21mtransition_matrix\u001b[39m(discrete_vector: np\u001b[38;5;241m.\u001b[39mndarray,\n\u001b[0;32m      6\u001b[0m                       n_in: \u001b[38;5;28mint\u001b[39m, n_out: \u001b[38;5;28mint\u001b[39m,\n\u001b[0;32m      7\u001b[0m                       skip_zero: \u001b[38;5;28mbool\u001b[39m \u001b[38;5;241m=\u001b[39m \u001b[38;5;28;01mTrue\u001b[39;00m) \u001b[38;5;241m-\u001b[39m\u001b[38;5;241m>\u001b[39m np\u001b[38;5;241m.\u001b[39mndarray:\n\u001b[0;32m      8\u001b[0m \u001b[38;5;250m    \u001b[39m\u001b[38;5;124;03m\"\"\"\u001b[39;00m\n\u001b[0;32m      9\u001b[0m \u001b[38;5;124;03m    Devuelve la matriz de transición P (float64) a partir del S-box\u001b[39;00m\n\u001b[0;32m     10\u001b[0m \u001b[38;5;124;03m    en forma de vector discreto (lookup table).\u001b[39;00m\n\u001b[1;32m   (...)\u001b[0m\n\u001b[0;32m     19\u001b[0m \u001b[38;5;124;03m        Si True descarta la fila Δx = 0 porque no se usa en cripto-ataques.\u001b[39;00m\n\u001b[0;32m     20\u001b[0m \u001b[38;5;124;03m    \"\"\"\u001b[39;00m\n",
      "\u001b[1;31mModuleNotFoundError\u001b[0m: No module named 'ddt'"
     ]
    }
   ],
   "source": [
    "from sbox import AESSBox\n",
    "import numpy as np\n",
    "from markov_utils import transition_matrix_square\n",
    "from markov_chain import DifferentialMarkovChain\n",
    "\n",
    "# 1. vector F(x)\n",
    "aes = AESSBox()\n",
    "vec = np.fromiter((aes.apply(i) for i in range(256)), dtype=np.uint8)\n",
    "\n",
    "# 2. matriz cuadrada (quitamos Δ = 0 fila/col)\n",
    "P = transition_matrix_square(vec, bits=8, skip_zero=True)\n",
    "\n",
    "# 3. la cadena\n",
    "chain = DifferentialMarkovChain(P, init=\"uniform\")\n",
    "\n",
    "print(\"∥πP-π∥₁   =\", np.linalg.norm(chain.stationary_distribution() @ P\n",
    "                                    - chain.stationary_distribution(), 1))\n",
    "print(\"gap       =\", chain.spectral_gap())\n",
    "for r in range(1, 5):\n",
    "    print(f\"r={r}:  max P^r = {chain.max_probability(r):.3e}, \"\n",
    "          f\"dTV = {chain.tv_distance(r):.3e}\")\n",
    "print(\"mezcla ε=2⁻²⁰ en\", chain.mixing_time(eps=2**-20), \"pasos\")\n"
   ]
  }
 ],
 "metadata": {
  "kernelspec": {
   "display_name": "Python 3",
   "language": "python",
   "name": "python3"
  },
  "language_info": {
   "codemirror_mode": {
    "name": "ipython",
    "version": 3
   },
   "file_extension": ".py",
   "mimetype": "text/x-python",
   "name": "python",
   "nbconvert_exporter": "python",
   "pygments_lexer": "ipython3",
   "version": "3.11.9"
  }
 },
 "nbformat": 4,
 "nbformat_minor": 5
}
